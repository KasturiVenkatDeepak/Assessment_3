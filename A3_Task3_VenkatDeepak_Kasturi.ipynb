{
 "cells": [
  {
   "cell_type": "markdown",
   "metadata": {},
   "source": [
    "#  Introduction"
   ]
  },
  {
   "cell_type": "markdown",
   "metadata": {},
   "source": [
    "\n",
    "The purpose of this report is to give a brief literature review on the NLP task, detailed explanation of steps taken in this task to perform the NLP techniques, additional data-preprocessing steps taken after cleaning the data stored from web crawler, explaining the results.\n"
   ]
  },
  {
   "cell_type": "markdown",
   "metadata": {},
   "source": [
    "#  Literature Review"
   ]
  },
  {
   "cell_type": "markdown",
   "metadata": {},
   "source": [
    "After a thorough study of literature regarding sentiment analysis and from my understanding of said literature, we can say that sentiment analysis is one of the challenging models, even with numerous research works carried out on it there are still challenges like “Slang words, New accents, grammatical and spelling mistakes”[1].The primary objective of this task is to do a sentiment analysis of the news articles scraped from the website by assigning them polarity values or spotting the opinions of the authors based on the titles of the articles via text basis. By understanding the user requirements we are able to deliver better and a balanced recommendation and not  biased recommendations. Because of the recent pandemic the news websites have been giving different views, opinions during various outbreak related events which is good for opinion mining on the dataset [2]. As our web scraping was made to scrape the 100 articles related to the covid-19 pandemic over a set period of time .”Research studies and practical applications in the field of SA have escalated in the past decade with the transformation and expansion of Web from passive provider of content to an active socially‐aware distributor of collective intelligence ”[3]. By applying this NLP technique we are able to identify our title and separate into one of the 3 possible categories that are positive,neutral and negative. \n",
    "\n",
    "Document similarity is one of the crucial components of many text analysis tasks like document classification,clustering and information retrieval. One of the key strategies being adopted and applied in the latest IT services to achieve their goals is using asset-based approach to service delivery [4]. But the similarity measure applied in the current industries only distinguishes between the similar and dissimilar documents which is a simple classification at best. We need more advanced similarity measures for possible scenarios of an article covering various topics involved in a project or something relating to the information in the article. “Accurate assessment of the topical similarity between documents is fundamental to many automatic text analysis applications, including information retrieval, document classification, and document clustering. Choosing a good similarity measure is no less important than choosing a good document representation (Hartigan, 1975)”[5]. Most of the commonly used techniques are Cosine and Jaccard metrics. \n",
    "\n",
    "These measures treat the words in the document as they are independent of each other, but that is not a good assumption. As in bringing meaning to the grammatical sense and to contain information, words are always related to each other to form meaningful sentences and structure to develop ideas. As news websites are competing with others to gain more views and clicks for their articles, it is important for the organization to stay ahead by innovating something new and attracting new users. The recommendation system helps the user to find items they are looking for, content based recommendation is one of various methods used in building a recommendation system. From the above mentioned NLP techniques, we use Sentiment Analysis and Document Similarity to develop a content based balanced recommender.\n"
   ]
  },
  {
   "cell_type": "markdown",
   "metadata": {},
   "source": [
    "# Rationale for the NLP Task"
   ]
  },
  {
   "cell_type": "markdown",
   "metadata": {},
   "source": [
    "Sentiment Analysis is used to technically process huge volumes of information for segregating and attaining relevant knowledge. The reason for choosing this is that sentiment analysis techniques are quite efficient in capturing the opinions from the written text when they are syntactically correct and the language is explicit. The news articles written and published by these authors from these websites have gone through editorial processes and there is less chance of dealing with informal data. Additionally ongoing researches show that with additional information added to the process would improve the accuracy of the polarities to a reliable and accurate form.\n",
    "\n",
    "We support the additional information by taking the description of the articles and making a cosine similarity matrix with this we are able to develop a prototype balance recommendation system utilizing both the NLP techniques.\n"
   ]
  },
  {
   "cell_type": "markdown",
   "metadata": {},
   "source": [
    "# Data Pre-Processing\n"
   ]
  },
  {
   "cell_type": "markdown",
   "metadata": {},
   "source": [
    "Data Preprocessing is a mandatory requirement if we are to get a good recommendation system. It helps us in eliminating the noise in the data set and modify it’s content to the necessary requirements for the model. The steps taken here are as follows :\n",
    "\n",
    "“na” removal, generally if it is numerical data we are able to use mean substitution or other techniques, as eliminating instances from the dataset is the last option. But in our dataset the description for a couple of articles were missing and rerunning the web crawler to get the information again proved no difference. Hence the rows containing na were removed.All of the text in the description are converted into lower cases as this also affects the system.\n",
    "\n",
    "“stopword removal” is one of the general steps taken before processing a natural language. Stopwords are like articles, prepositions, pronouns, conjunctions and other words which do not add much information to the text. It is one of the necessary steps which must be taken to get a better recommendation system. As removing stop words from the description would help us remove the low-level information from the text and the more important information would remain and be focused by the system.\n",
    "\n",
    "“Lemmatization” is also one of the steps applied before the data is fed for the vectorizer, the goal of lemmatization is to reduce inflectional and derivationally related forms of words to a base form. Stemming was not chosen as it is a crude heuristic process that drops the ends of the words. Lemmatization is best for this possible scenario, there are also two types of lemmatization one on the noun and the verb. Here we have chosen to do it on the verbs."
   ]
  },
  {
   "cell_type": "code",
   "execution_count": 1,
   "metadata": {},
   "outputs": [],
   "source": [
    "from newsapi import NewsApiClient\n",
    "from textblob import TextBlob\n",
    "import numpy as np\n",
    "import pandas as pd\n",
    "import nltk\n",
    "import string\n",
    "from sklearn.feature_extraction.text import TfidfVectorizer\n",
    "from sklearn.metrics.pairwise import cosine_similarity\n",
    "import matplotlib.pyplot as plt\n",
    "import seaborn as sns"
   ]
  },
  {
   "cell_type": "code",
   "execution_count": 2,
   "metadata": {},
   "outputs": [
    {
     "name": "stderr",
     "output_type": "stream",
     "text": [
      "[nltk_data] Downloading package stopwords to\n",
      "[nltk_data]     C:\\Users\\venka\\AppData\\Roaming\\nltk_data...\n",
      "[nltk_data]   Package stopwords is already up-to-date!\n",
      "[nltk_data] Downloading package wordnet to\n",
      "[nltk_data]     C:\\Users\\venka\\AppData\\Roaming\\nltk_data...\n",
      "[nltk_data]   Package wordnet is already up-to-date!\n"
     ]
    },
    {
     "data": {
      "text/plain": [
       "True"
      ]
     },
     "execution_count": 2,
     "metadata": {},
     "output_type": "execute_result"
    }
   ],
   "source": [
    "nltk.download('stopwords')\n",
    "nltk.download('wordnet')"
   ]
  },
  {
   "cell_type": "code",
   "execution_count": 3,
   "metadata": {},
   "outputs": [],
   "source": [
    "abcnews_data_final = pd.read_csv('news_crawled.csv')"
   ]
  },
  {
   "cell_type": "code",
   "execution_count": 4,
   "metadata": {},
   "outputs": [
    {
     "data": {
      "text/html": [
       "<div>\n",
       "<style scoped>\n",
       "    .dataframe tbody tr th:only-of-type {\n",
       "        vertical-align: middle;\n",
       "    }\n",
       "\n",
       "    .dataframe tbody tr th {\n",
       "        vertical-align: top;\n",
       "    }\n",
       "\n",
       "    .dataframe thead th {\n",
       "        text-align: right;\n",
       "    }\n",
       "</style>\n",
       "<table border=\"1\" class=\"dataframe\">\n",
       "  <thead>\n",
       "    <tr style=\"text-align: right;\">\n",
       "      <th></th>\n",
       "      <th>author</th>\n",
       "      <th>title</th>\n",
       "      <th>description</th>\n",
       "      <th>url</th>\n",
       "      <th>date</th>\n",
       "    </tr>\n",
       "  </thead>\n",
       "  <tbody>\n",
       "    <tr>\n",
       "      <th>0</th>\n",
       "      <td>RICARDO ALONSO-ZALDIVAR and ZEKE MILLER Associ...</td>\n",
       "      <td>US setting up $1.7B national network to track ...</td>\n",
       "      <td>The Biden administration says the U.S. is sett...</td>\n",
       "      <td>https://abcnews.go.com/Health/wireStory/us-set...</td>\n",
       "      <td>2021-04-16T14:34:18Z</td>\n",
       "    </tr>\n",
       "    <tr>\n",
       "      <th>1</th>\n",
       "      <td>MARINA VILLENEUVE Associated Press</td>\n",
       "      <td>Reforms follow deadly year in New York nursing...</td>\n",
       "      <td>After a deadly year in New York’s nursing home...</td>\n",
       "      <td>https://abcnews.go.com/Health/wireStory/reform...</td>\n",
       "      <td>2021-04-10T12:14:31Z</td>\n",
       "    </tr>\n",
       "    <tr>\n",
       "      <th>2</th>\n",
       "      <td>RYAN J. FOLEY Associated Press</td>\n",
       "      <td>Industry foe charged under Iowa's new food tre...</td>\n",
       "      <td>An animal rights activist whose investigations...</td>\n",
       "      <td>https://abcnews.go.com/Business/wireStory/indu...</td>\n",
       "      <td>2021-04-08T18:27:31Z</td>\n",
       "    </tr>\n",
       "    <tr>\n",
       "      <th>3</th>\n",
       "      <td>JOYCE M. ROSENBERG AP Business Writer</td>\n",
       "      <td>Supply bottlenecks leave ships stranded, busin...</td>\n",
       "      <td>A trade bottleneck born of the COVID-19 outbre...</td>\n",
       "      <td>https://abcnews.go.com/Business/wireStory/supp...</td>\n",
       "      <td>2021-03-21T12:21:23Z</td>\n",
       "    </tr>\n",
       "    <tr>\n",
       "      <th>4</th>\n",
       "      <td>KAREL JANICEK Associated Press</td>\n",
       "      <td>Longest-serving bookseller among 25,000 Czech ...</td>\n",
       "      <td>A year after the Czech Republic recorded its f...</td>\n",
       "      <td>https://abcnews.go.com/Health/wireStory/longes...</td>\n",
       "      <td>2021-03-28T07:10:53Z</td>\n",
       "    </tr>\n",
       "    <tr>\n",
       "      <th>5</th>\n",
       "      <td>Erin Schumaker</td>\n",
       "      <td>Pausing Johnson &amp; Johnson vaccines shows monit...</td>\n",
       "      <td>Pausing Johnson &amp; Johnson vaccines shows monit...</td>\n",
       "      <td>https://abcnews.go.com/Health/pausing-johnson-...</td>\n",
       "      <td>2021-04-13T20:48:08Z</td>\n",
       "    </tr>\n",
       "    <tr>\n",
       "      <th>6</th>\n",
       "      <td>JAKE COYLE AP Film Writer</td>\n",
       "      <td>The pandemic has upended the Oscars. Good, pro...</td>\n",
       "      <td>Ninety seconds</td>\n",
       "      <td>https://abcnews.go.com/Entertainment/wireStory...</td>\n",
       "      <td>2021-04-16T12:10:22Z</td>\n",
       "    </tr>\n",
       "    <tr>\n",
       "      <th>7</th>\n",
       "      <td>The Associated Press</td>\n",
       "      <td>China says it will discuss climate, other issu...</td>\n",
       "      <td>China says it has agreed with the U.S. to take...</td>\n",
       "      <td>https://abcnews.go.com/US/wireStory/china-disc...</td>\n",
       "      <td>2021-03-20T11:44:45Z</td>\n",
       "    </tr>\n",
       "    <tr>\n",
       "      <th>8</th>\n",
       "      <td>Associated Press</td>\n",
       "      <td>Coroner: Man who died after vaccine died of na...</td>\n",
       "      <td>A South Florida doctor who died about two week...</td>\n",
       "      <td>https://abcnews.go.com/Health/wireStory/corone...</td>\n",
       "      <td>2021-04-07T23:14:37Z</td>\n",
       "    </tr>\n",
       "    <tr>\n",
       "      <th>9</th>\n",
       "      <td>The Associated Press</td>\n",
       "      <td>Norwegian Cruises asks CDC to allow trips from...</td>\n",
       "      <td>Norwegian Cruise Line’s parent company wants t...</td>\n",
       "      <td>https://abcnews.go.com/Business/wireStory/norw...</td>\n",
       "      <td>2021-04-05T16:32:15Z</td>\n",
       "    </tr>\n",
       "  </tbody>\n",
       "</table>\n",
       "</div>"
      ],
      "text/plain": [
       "                                              author  \\\n",
       "0  RICARDO ALONSO-ZALDIVAR and ZEKE MILLER Associ...   \n",
       "1                 MARINA VILLENEUVE Associated Press   \n",
       "2                     RYAN J. FOLEY Associated Press   \n",
       "3              JOYCE M. ROSENBERG AP Business Writer   \n",
       "4                     KAREL JANICEK Associated Press   \n",
       "5                                     Erin Schumaker   \n",
       "6                          JAKE COYLE AP Film Writer   \n",
       "7                               The Associated Press   \n",
       "8                                   Associated Press   \n",
       "9                               The Associated Press   \n",
       "\n",
       "                                               title  \\\n",
       "0  US setting up $1.7B national network to track ...   \n",
       "1  Reforms follow deadly year in New York nursing...   \n",
       "2  Industry foe charged under Iowa's new food tre...   \n",
       "3  Supply bottlenecks leave ships stranded, busin...   \n",
       "4  Longest-serving bookseller among 25,000 Czech ...   \n",
       "5  Pausing Johnson & Johnson vaccines shows monit...   \n",
       "6  The pandemic has upended the Oscars. Good, pro...   \n",
       "7  China says it will discuss climate, other issu...   \n",
       "8  Coroner: Man who died after vaccine died of na...   \n",
       "9  Norwegian Cruises asks CDC to allow trips from...   \n",
       "\n",
       "                                         description  \\\n",
       "0  The Biden administration says the U.S. is sett...   \n",
       "1  After a deadly year in New York’s nursing home...   \n",
       "2  An animal rights activist whose investigations...   \n",
       "3  A trade bottleneck born of the COVID-19 outbre...   \n",
       "4  A year after the Czech Republic recorded its f...   \n",
       "5  Pausing Johnson & Johnson vaccines shows monit...   \n",
       "6                                     Ninety seconds   \n",
       "7  China says it has agreed with the U.S. to take...   \n",
       "8  A South Florida doctor who died about two week...   \n",
       "9  Norwegian Cruise Line’s parent company wants t...   \n",
       "\n",
       "                                                 url                  date  \n",
       "0  https://abcnews.go.com/Health/wireStory/us-set...  2021-04-16T14:34:18Z  \n",
       "1  https://abcnews.go.com/Health/wireStory/reform...  2021-04-10T12:14:31Z  \n",
       "2  https://abcnews.go.com/Business/wireStory/indu...  2021-04-08T18:27:31Z  \n",
       "3  https://abcnews.go.com/Business/wireStory/supp...  2021-03-21T12:21:23Z  \n",
       "4  https://abcnews.go.com/Health/wireStory/longes...  2021-03-28T07:10:53Z  \n",
       "5  https://abcnews.go.com/Health/pausing-johnson-...  2021-04-13T20:48:08Z  \n",
       "6  https://abcnews.go.com/Entertainment/wireStory...  2021-04-16T12:10:22Z  \n",
       "7  https://abcnews.go.com/US/wireStory/china-disc...  2021-03-20T11:44:45Z  \n",
       "8  https://abcnews.go.com/Health/wireStory/corone...  2021-04-07T23:14:37Z  \n",
       "9  https://abcnews.go.com/Business/wireStory/norw...  2021-04-05T16:32:15Z  "
      ]
     },
     "execution_count": 4,
     "metadata": {},
     "output_type": "execute_result"
    }
   ],
   "source": [
    "abcnews_data_final.head(10)"
   ]
  },
  {
   "cell_type": "markdown",
   "metadata": {},
   "source": [
    "# Specification and Justification of hyperparameter"
   ]
  },
  {
   "cell_type": "markdown",
   "metadata": {},
   "source": [
    "There are no specific hyperparameters used in both Sentiment analysis and in the TFIDF vectorizer. The reason for this is Sentiment analysis has no parameters, whereas  TFIDF vectorizer the limitations of the resources on the system prevented me from performing the NLP task within the time limit. So no parameters were passed.\n",
    "\n",
    "Some hyperparameters passed were in Lemmatization where we have chosen to focus the lemmatizer on the verbs within the text rather.\n"
   ]
  },
  {
   "cell_type": "markdown",
   "metadata": {},
   "source": [
    "# NLP Technique - I (News Polarity Analysis based on titles)"
   ]
  },
  {
   "cell_type": "code",
   "execution_count": 5,
   "metadata": {},
   "outputs": [],
   "source": [
    "polarity = []\n",
    "for i in range(abcnews_data_final.shape[0]):\n",
    "    polarity.append(TextBlob(abcnews_data_final['title'][i]).sentiment.polarity)\n",
    "\n",
    "abcnews_data_final['polarity'] = pd.Series(polarity)"
   ]
  },
  {
   "cell_type": "code",
   "execution_count": 6,
   "metadata": {},
   "outputs": [
    {
     "data": {
      "text/html": [
       "<div>\n",
       "<style scoped>\n",
       "    .dataframe tbody tr th:only-of-type {\n",
       "        vertical-align: middle;\n",
       "    }\n",
       "\n",
       "    .dataframe tbody tr th {\n",
       "        vertical-align: top;\n",
       "    }\n",
       "\n",
       "    .dataframe thead th {\n",
       "        text-align: right;\n",
       "    }\n",
       "</style>\n",
       "<table border=\"1\" class=\"dataframe\">\n",
       "  <thead>\n",
       "    <tr style=\"text-align: right;\">\n",
       "      <th></th>\n",
       "      <th>author</th>\n",
       "      <th>title</th>\n",
       "      <th>description</th>\n",
       "      <th>url</th>\n",
       "      <th>date</th>\n",
       "      <th>polarity</th>\n",
       "    </tr>\n",
       "  </thead>\n",
       "  <tbody>\n",
       "    <tr>\n",
       "      <th>0</th>\n",
       "      <td>RICARDO ALONSO-ZALDIVAR and ZEKE MILLER Associ...</td>\n",
       "      <td>US setting up $1.7B national network to track ...</td>\n",
       "      <td>The Biden administration says the U.S. is sett...</td>\n",
       "      <td>https://abcnews.go.com/Health/wireStory/us-set...</td>\n",
       "      <td>2021-04-16T14:34:18Z</td>\n",
       "      <td>0.000000</td>\n",
       "    </tr>\n",
       "    <tr>\n",
       "      <th>1</th>\n",
       "      <td>MARINA VILLENEUVE Associated Press</td>\n",
       "      <td>Reforms follow deadly year in New York nursing...</td>\n",
       "      <td>After a deadly year in New York’s nursing home...</td>\n",
       "      <td>https://abcnews.go.com/Health/wireStory/reform...</td>\n",
       "      <td>2021-04-10T12:14:31Z</td>\n",
       "      <td>-0.031818</td>\n",
       "    </tr>\n",
       "    <tr>\n",
       "      <th>2</th>\n",
       "      <td>RYAN J. FOLEY Associated Press</td>\n",
       "      <td>Industry foe charged under Iowa's new food tre...</td>\n",
       "      <td>An animal rights activist whose investigations...</td>\n",
       "      <td>https://abcnews.go.com/Business/wireStory/indu...</td>\n",
       "      <td>2021-04-08T18:27:31Z</td>\n",
       "      <td>0.136364</td>\n",
       "    </tr>\n",
       "    <tr>\n",
       "      <th>3</th>\n",
       "      <td>JOYCE M. ROSENBERG AP Business Writer</td>\n",
       "      <td>Supply bottlenecks leave ships stranded, busin...</td>\n",
       "      <td>A trade bottleneck born of the COVID-19 outbre...</td>\n",
       "      <td>https://abcnews.go.com/Business/wireStory/supp...</td>\n",
       "      <td>2021-03-21T12:21:23Z</td>\n",
       "      <td>0.000000</td>\n",
       "    </tr>\n",
       "    <tr>\n",
       "      <th>4</th>\n",
       "      <td>KAREL JANICEK Associated Press</td>\n",
       "      <td>Longest-serving bookseller among 25,000 Czech ...</td>\n",
       "      <td>A year after the Czech Republic recorded its f...</td>\n",
       "      <td>https://abcnews.go.com/Health/wireStory/longes...</td>\n",
       "      <td>2021-03-28T07:10:53Z</td>\n",
       "      <td>0.000000</td>\n",
       "    </tr>\n",
       "  </tbody>\n",
       "</table>\n",
       "</div>"
      ],
      "text/plain": [
       "                                              author  \\\n",
       "0  RICARDO ALONSO-ZALDIVAR and ZEKE MILLER Associ...   \n",
       "1                 MARINA VILLENEUVE Associated Press   \n",
       "2                     RYAN J. FOLEY Associated Press   \n",
       "3              JOYCE M. ROSENBERG AP Business Writer   \n",
       "4                     KAREL JANICEK Associated Press   \n",
       "\n",
       "                                               title  \\\n",
       "0  US setting up $1.7B national network to track ...   \n",
       "1  Reforms follow deadly year in New York nursing...   \n",
       "2  Industry foe charged under Iowa's new food tre...   \n",
       "3  Supply bottlenecks leave ships stranded, busin...   \n",
       "4  Longest-serving bookseller among 25,000 Czech ...   \n",
       "\n",
       "                                         description  \\\n",
       "0  The Biden administration says the U.S. is sett...   \n",
       "1  After a deadly year in New York’s nursing home...   \n",
       "2  An animal rights activist whose investigations...   \n",
       "3  A trade bottleneck born of the COVID-19 outbre...   \n",
       "4  A year after the Czech Republic recorded its f...   \n",
       "\n",
       "                                                 url                  date  \\\n",
       "0  https://abcnews.go.com/Health/wireStory/us-set...  2021-04-16T14:34:18Z   \n",
       "1  https://abcnews.go.com/Health/wireStory/reform...  2021-04-10T12:14:31Z   \n",
       "2  https://abcnews.go.com/Business/wireStory/indu...  2021-04-08T18:27:31Z   \n",
       "3  https://abcnews.go.com/Business/wireStory/supp...  2021-03-21T12:21:23Z   \n",
       "4  https://abcnews.go.com/Health/wireStory/longes...  2021-03-28T07:10:53Z   \n",
       "\n",
       "   polarity  \n",
       "0  0.000000  \n",
       "1 -0.031818  \n",
       "2  0.136364  \n",
       "3  0.000000  \n",
       "4  0.000000  "
      ]
     },
     "execution_count": 6,
     "metadata": {},
     "output_type": "execute_result"
    }
   ],
   "source": [
    "abcnews_data_final.head()"
   ]
  },
  {
   "cell_type": "code",
   "execution_count": 7,
   "metadata": {},
   "outputs": [],
   "source": [
    "abcnews_data_final.dropna(inplace = True)"
   ]
  },
  {
   "cell_type": "code",
   "execution_count": 8,
   "metadata": {},
   "outputs": [],
   "source": [
    "abcnews_data_final_posneutral = abcnews_data_final.loc[abcnews_data_final.polarity >= 0, :]\n",
    "abcnews_data_final_negneutral = abcnews_data_final.loc[abcnews_data_final.polarity <= 0, :]"
   ]
  },
  {
   "cell_type": "markdown",
   "metadata": {},
   "source": [
    "# NLP Technique - II (Document Similarity Analysis)"
   ]
  },
  {
   "cell_type": "code",
   "execution_count": 9,
   "metadata": {},
   "outputs": [],
   "source": [
    "from nltk.corpus import stopwords\n",
    "from nltk.stem import WordNetLemmatizer"
   ]
  },
  {
   "cell_type": "code",
   "execution_count": 10,
   "metadata": {},
   "outputs": [],
   "source": [
    "corpus_posneutral = list(abcnews_data_final_posneutral['description'])\n",
    "for i in range(len(corpus_posneutral)):\n",
    "    filtered_list_of_words = [word.lower() for word in corpus_posneutral[i].split()]\n",
    "    for j in range(len(filtered_list_of_words)):\n",
    "        word = ''\n",
    "        for k in range(len(filtered_list_of_words[j])):\n",
    "            if filtered_list_of_words[j][k] in string.punctuation:\n",
    "                word += ''\n",
    "            else:\n",
    "                word += filtered_list_of_words[j][k]\n",
    "        filtered_list_of_words[j] = word\n",
    "    filtered_list_of_words = [WordNetLemmatizer().lemmatize(word, pos=\"v\") for word in filtered_list_of_words if word not in stopwords.words('english')]\n",
    "    corpus_posneutral[i] = ' '.join(filtered_list_of_words)\n",
    "    \n",
    "corpus_negneutral = list(abcnews_data_final_negneutral['description'])\n",
    "for i in range(len(corpus_negneutral)):\n",
    "    filtered_list_of_words = [word.lower() for word in corpus_negneutral[i].split()]\n",
    "    for j in range(len(filtered_list_of_words)):\n",
    "        word = ''\n",
    "        for k in range(len(filtered_list_of_words[j])):\n",
    "            if filtered_list_of_words[j][k] in string.punctuation:\n",
    "                word += ''\n",
    "            else:\n",
    "                word += filtered_list_of_words[j][k]\n",
    "        filtered_list_of_words[j] = word\n",
    "    filtered_list_of_words = [WordNetLemmatizer().lemmatize(word, pos=\"v\") for word in filtered_list_of_words if word not in stopwords.words('english')]\n",
    "    corpus_negneutral[i] = ' '.join(filtered_list_of_words)"
   ]
  },
  {
   "cell_type": "code",
   "execution_count": 11,
   "metadata": {},
   "outputs": [],
   "source": [
    "vectorizer_posneutral = TfidfVectorizer()\n",
    "tf_idf_corpus_posneutral = vectorizer_posneutral.fit_transform(corpus_posneutral)\n",
    "vectorizer_negneutral = TfidfVectorizer()\n",
    "tf_idf_corpus_negneutral = vectorizer_negneutral.fit_transform(corpus_negneutral)"
   ]
  },
  {
   "cell_type": "code",
   "execution_count": 17,
   "metadata": {},
   "outputs": [
    {
     "name": "stdout",
     "output_type": "stream",
     "text": [
      "Enter the query to search related news among latest news: covid\n"
     ]
    }
   ],
   "source": [
    "input_query_doc = input('Enter the query to search related news among latest news: ')"
   ]
  },
  {
   "cell_type": "code",
   "execution_count": 18,
   "metadata": {},
   "outputs": [],
   "source": [
    "filtered_list_of_words = [word.lower() for word in input_query_doc.split()]\n",
    "for j in range(len(filtered_list_of_words)):\n",
    "    word = ''\n",
    "    for k in range(len(filtered_list_of_words[j])):\n",
    "        if filtered_list_of_words[j][k] in string.punctuation:\n",
    "            word += ''\n",
    "        else:\n",
    "            word += filtered_list_of_words[j][k]\n",
    "    filtered_list_of_words[j] = word\n",
    "filtered_list_of_words = [WordNetLemmatizer().lemmatize(word, pos=\"v\") for word in filtered_list_of_words if word not in stopwords.words('english')]\n",
    "input_query_doc = ' '.join(filtered_list_of_words)"
   ]
  },
  {
   "cell_type": "code",
   "execution_count": 19,
   "metadata": {},
   "outputs": [],
   "source": [
    "doc_vector_input_posneutral = vectorizer_posneutral.transform([input_query_doc])\n",
    "doc_vector_input_negneutral = vectorizer_negneutral.transform([input_query_doc])"
   ]
  },
  {
   "cell_type": "code",
   "execution_count": 20,
   "metadata": {},
   "outputs": [
    {
     "name": "stdout",
     "output_type": "stream",
     "text": [
      "5 Most Related Positive or Neutral News Articles are as follows: \n"
     ]
    },
    {
     "data": {
      "text/html": [
       "<div>\n",
       "<style scoped>\n",
       "    .dataframe tbody tr th:only-of-type {\n",
       "        vertical-align: middle;\n",
       "    }\n",
       "\n",
       "    .dataframe tbody tr th {\n",
       "        vertical-align: top;\n",
       "    }\n",
       "\n",
       "    .dataframe thead th {\n",
       "        text-align: right;\n",
       "    }\n",
       "</style>\n",
       "<table border=\"1\" class=\"dataframe\">\n",
       "  <thead>\n",
       "    <tr style=\"text-align: right;\">\n",
       "      <th></th>\n",
       "      <th>author</th>\n",
       "      <th>title</th>\n",
       "      <th>description</th>\n",
       "      <th>url</th>\n",
       "      <th>date</th>\n",
       "      <th>polarity</th>\n",
       "    </tr>\n",
       "  </thead>\n",
       "  <tbody>\n",
       "    <tr>\n",
       "      <th>548</th>\n",
       "      <td>Erin Schumaker</td>\n",
       "      <td>Few health care workers infected with COVID af...</td>\n",
       "      <td>Few health care workers infected with COVID af...</td>\n",
       "      <td>https://abcnews.go.com/Health/health-care-work...</td>\n",
       "      <td>2021-03-24T20:48:59Z</td>\n",
       "      <td>0.075</td>\n",
       "    </tr>\n",
       "    <tr>\n",
       "      <th>670</th>\n",
       "      <td>Morgan Winsor</td>\n",
       "      <td>Over 100 fully vaccinated people contract COVI...</td>\n",
       "      <td>Over 100 fully vaccinated people contract COVI...</td>\n",
       "      <td>https://abcnews.go.com/Health/100-fully-vaccin...</td>\n",
       "      <td>2021-03-31T13:22:37Z</td>\n",
       "      <td>0.000</td>\n",
       "    </tr>\n",
       "    <tr>\n",
       "      <th>912</th>\n",
       "      <td>Dr. Alexis E. Carrington</td>\n",
       "      <td>How NY hospital faced COVID devastation and ca...</td>\n",
       "      <td>How NY hospital faced COVID devastation and ca...</td>\n",
       "      <td>https://abcnews.go.com/Health/ny-hospital-face...</td>\n",
       "      <td>2021-03-28T16:49:30Z</td>\n",
       "      <td>0.000</td>\n",
       "    </tr>\n",
       "    <tr>\n",
       "      <th>884</th>\n",
       "      <td>The Associated Press</td>\n",
       "      <td>AstraZeneca says US trial data shows vaccine 7...</td>\n",
       "      <td>AstraZeneca says advanced trial data from a U....</td>\n",
       "      <td>https://abcnews.go.com/Health/wireStory/astraz...</td>\n",
       "      <td>2021-03-22T07:50:04Z</td>\n",
       "      <td>0.600</td>\n",
       "    </tr>\n",
       "    <tr>\n",
       "      <th>435</th>\n",
       "      <td>Sarah Kolinovsky, Molly Nagle</td>\n",
       "      <td>'My heart goes out,' Biden says on Colorado sh...</td>\n",
       "      <td>For the second time in a week, a mass shooting...</td>\n",
       "      <td>https://abcnews.go.com/Politics/heart-biden-co...</td>\n",
       "      <td>2021-03-23T18:09:07Z</td>\n",
       "      <td>0.000</td>\n",
       "    </tr>\n",
       "  </tbody>\n",
       "</table>\n",
       "</div>"
      ],
      "text/plain": [
       "                            author  \\\n",
       "548                 Erin Schumaker   \n",
       "670                  Morgan Winsor   \n",
       "912       Dr. Alexis E. Carrington   \n",
       "884           The Associated Press   \n",
       "435  Sarah Kolinovsky, Molly Nagle   \n",
       "\n",
       "                                                 title  \\\n",
       "548  Few health care workers infected with COVID af...   \n",
       "670  Over 100 fully vaccinated people contract COVI...   \n",
       "912  How NY hospital faced COVID devastation and ca...   \n",
       "884  AstraZeneca says US trial data shows vaccine 7...   \n",
       "435  'My heart goes out,' Biden says on Colorado sh...   \n",
       "\n",
       "                                           description  \\\n",
       "548  Few health care workers infected with COVID af...   \n",
       "670  Over 100 fully vaccinated people contract COVI...   \n",
       "912  How NY hospital faced COVID devastation and ca...   \n",
       "884  AstraZeneca says advanced trial data from a U....   \n",
       "435  For the second time in a week, a mass shooting...   \n",
       "\n",
       "                                                   url                  date  \\\n",
       "548  https://abcnews.go.com/Health/health-care-work...  2021-03-24T20:48:59Z   \n",
       "670  https://abcnews.go.com/Health/100-fully-vaccin...  2021-03-31T13:22:37Z   \n",
       "912  https://abcnews.go.com/Health/ny-hospital-face...  2021-03-28T16:49:30Z   \n",
       "884  https://abcnews.go.com/Health/wireStory/astraz...  2021-03-22T07:50:04Z   \n",
       "435  https://abcnews.go.com/Politics/heart-biden-co...  2021-03-23T18:09:07Z   \n",
       "\n",
       "     polarity  \n",
       "548     0.075  \n",
       "670     0.000  \n",
       "912     0.000  \n",
       "884     0.600  \n",
       "435     0.000  "
      ]
     },
     "execution_count": 20,
     "metadata": {},
     "output_type": "execute_result"
    }
   ],
   "source": [
    "cosine_similarities = cosine_similarity(doc_vector_input_posneutral.toarray(), tf_idf_corpus_posneutral.toarray()).reshape(len(corpus_posneutral))\n",
    "most_similar_news = list(np.argsort(cosine_similarities))\n",
    "most_similar_news.reverse()\n",
    "print('5 Most Related Positive or Neutral News Articles are as follows: ')\n",
    "abcnews_data_final_posneutral.iloc[most_similar_news[:5],:]"
   ]
  },
  {
   "cell_type": "code",
   "execution_count": 21,
   "metadata": {},
   "outputs": [
    {
     "name": "stdout",
     "output_type": "stream",
     "text": [
      "5 Most Related Negative or Neutral News Articles are as follows: \n"
     ]
    },
    {
     "data": {
      "text/html": [
       "<div>\n",
       "<style scoped>\n",
       "    .dataframe tbody tr th:only-of-type {\n",
       "        vertical-align: middle;\n",
       "    }\n",
       "\n",
       "    .dataframe tbody tr th {\n",
       "        vertical-align: top;\n",
       "    }\n",
       "\n",
       "    .dataframe thead th {\n",
       "        text-align: right;\n",
       "    }\n",
       "</style>\n",
       "<table border=\"1\" class=\"dataframe\">\n",
       "  <thead>\n",
       "    <tr style=\"text-align: right;\">\n",
       "      <th></th>\n",
       "      <th>author</th>\n",
       "      <th>title</th>\n",
       "      <th>description</th>\n",
       "      <th>url</th>\n",
       "      <th>date</th>\n",
       "      <th>polarity</th>\n",
       "    </tr>\n",
       "  </thead>\n",
       "  <tbody>\n",
       "    <tr>\n",
       "      <th>953</th>\n",
       "      <td>Dr. Samuel Rothman</td>\n",
       "      <td>National Doctors Day celebrates mental health ...</td>\n",
       "      <td>COVID \"gave permission for physicians to care ...</td>\n",
       "      <td>https://abcnews.go.com/Health/year-national-do...</td>\n",
       "      <td>2021-03-30T21:58:12Z</td>\n",
       "      <td>-0.10</td>\n",
       "    </tr>\n",
       "    <tr>\n",
       "      <th>670</th>\n",
       "      <td>Morgan Winsor</td>\n",
       "      <td>Over 100 fully vaccinated people contract COVI...</td>\n",
       "      <td>Over 100 fully vaccinated people contract COVI...</td>\n",
       "      <td>https://abcnews.go.com/Health/100-fully-vaccin...</td>\n",
       "      <td>2021-03-31T13:22:37Z</td>\n",
       "      <td>0.00</td>\n",
       "    </tr>\n",
       "    <tr>\n",
       "      <th>912</th>\n",
       "      <td>Dr. Alexis E. Carrington</td>\n",
       "      <td>How NY hospital faced COVID devastation and ca...</td>\n",
       "      <td>How NY hospital faced COVID devastation and ca...</td>\n",
       "      <td>https://abcnews.go.com/Health/ny-hospital-face...</td>\n",
       "      <td>2021-03-28T16:49:30Z</td>\n",
       "      <td>0.00</td>\n",
       "    </tr>\n",
       "    <tr>\n",
       "      <th>435</th>\n",
       "      <td>Sarah Kolinovsky, Molly Nagle</td>\n",
       "      <td>'My heart goes out,' Biden says on Colorado sh...</td>\n",
       "      <td>For the second time in a week, a mass shooting...</td>\n",
       "      <td>https://abcnews.go.com/Politics/heart-biden-co...</td>\n",
       "      <td>2021-03-23T18:09:07Z</td>\n",
       "      <td>0.00</td>\n",
       "    </tr>\n",
       "    <tr>\n",
       "      <th>811</th>\n",
       "      <td>Sarah Kolinovsky</td>\n",
       "      <td>Biden forced to confront 2nd mass shooting in ...</td>\n",
       "      <td>For the second time in a week, a mass shooting...</td>\n",
       "      <td>https://abcnews.go.com/Politics/biden-forced-c...</td>\n",
       "      <td>2021-03-23T16:45:02Z</td>\n",
       "      <td>-0.15</td>\n",
       "    </tr>\n",
       "  </tbody>\n",
       "</table>\n",
       "</div>"
      ],
      "text/plain": [
       "                            author  \\\n",
       "953             Dr. Samuel Rothman   \n",
       "670                  Morgan Winsor   \n",
       "912       Dr. Alexis E. Carrington   \n",
       "435  Sarah Kolinovsky, Molly Nagle   \n",
       "811               Sarah Kolinovsky   \n",
       "\n",
       "                                                 title  \\\n",
       "953  National Doctors Day celebrates mental health ...   \n",
       "670  Over 100 fully vaccinated people contract COVI...   \n",
       "912  How NY hospital faced COVID devastation and ca...   \n",
       "435  'My heart goes out,' Biden says on Colorado sh...   \n",
       "811  Biden forced to confront 2nd mass shooting in ...   \n",
       "\n",
       "                                           description  \\\n",
       "953  COVID \"gave permission for physicians to care ...   \n",
       "670  Over 100 fully vaccinated people contract COVI...   \n",
       "912  How NY hospital faced COVID devastation and ca...   \n",
       "435  For the second time in a week, a mass shooting...   \n",
       "811  For the second time in a week, a mass shooting...   \n",
       "\n",
       "                                                   url                  date  \\\n",
       "953  https://abcnews.go.com/Health/year-national-do...  2021-03-30T21:58:12Z   \n",
       "670  https://abcnews.go.com/Health/100-fully-vaccin...  2021-03-31T13:22:37Z   \n",
       "912  https://abcnews.go.com/Health/ny-hospital-face...  2021-03-28T16:49:30Z   \n",
       "435  https://abcnews.go.com/Politics/heart-biden-co...  2021-03-23T18:09:07Z   \n",
       "811  https://abcnews.go.com/Politics/biden-forced-c...  2021-03-23T16:45:02Z   \n",
       "\n",
       "     polarity  \n",
       "953     -0.10  \n",
       "670      0.00  \n",
       "912      0.00  \n",
       "435      0.00  \n",
       "811     -0.15  "
      ]
     },
     "execution_count": 21,
     "metadata": {},
     "output_type": "execute_result"
    }
   ],
   "source": [
    "cosine_similarities = cosine_similarity(doc_vector_input_negneutral.toarray(), tf_idf_corpus_negneutral.toarray()).reshape(len(corpus_negneutral))\n",
    "most_similar_news = list(np.argsort(cosine_similarities))\n",
    "most_similar_news.reverse()\n",
    "print('5 Most Related Negative or Neutral News Articles are as follows: ')\n",
    "abcnews_data_final_negneutral.iloc[most_similar_news[:5],:]"
   ]
  },
  {
   "cell_type": "markdown",
   "metadata": {},
   "source": [
    "# Preliminary assessment of NLP Task\n"
   ]
  },
  {
   "cell_type": "markdown",
   "metadata": {},
   "source": [
    "We set out on the task to build a balanced recommender which would suggest news articles to the user based on all the possible polarities like positive, negative and neutral. We have achieved this at the end with the relevant NLP techniques applied on the dataset. From the results it can be observed that we have achieved our goal of building a Balanced recommender"
   ]
  },
  {
   "cell_type": "markdown",
   "metadata": {},
   "source": [
    "# References\n"
   ]
  },
  {
   "cell_type": "markdown",
   "metadata": {},
   "source": [
    "1. Dharani Devi, G., & Kamalakkannan, D. S. (2020, January). Literature Review on Sentiment Analysis in Social Media: Open Challenges toward Applications. Https://Www.Researchgate.Net/. https://www.researchgate.net/publication/341913399_Literature_Review_on_Sentiment_Analysis_in_Social_Media_Open_Challenges_toward_Applications\n",
    "\n",
    "2. A.H. Alamoodi, B.B. Zaidan, A.A. Zaidan, O.S. Albahri, K.I. Mohammed, R.Q. Malik, E.M. Almahdi, M.A. Chyad, Z. Tareq, A.S. Albahri, Hamsa Hameed, Musaab Alaa, Sentiment analysis and its applications in fighting COVID-19 and infectious diseases: A systematic review,Expert Systems with Applications,\n",
    "\n",
    "3. Reilly T. Web 2.0 Compact Definition: Trying Again. Sebastopol, CA: O'Reilly Media; 2017. http://radar.oreilly.com/2006/12/web-20-compact-definition-tryi.html. Accessed April 24, 2017.\n",
    "\n",
    "4. Sayeed, Asad & Sarkar, Soumitra & Deng, Yu & Hosn, Rafah & Mahindru, Ruchi & Nithya, R.Anitha. (2009). Characteristics of document similarity measures for compliance analysis. 1207-1216. 10.1145/1645953.1646106.\n",
    "\n",
    "5. Hartigan, J. A. (1975). Clustering Algorithms. New York, NY, USA: John Wiley & Sons, Inc.\n",
    "\n",
    "6. H. Yanagimoto, M. Shimada and A. Yoshimura, \"Document similarity estimation for sentiment analysis using neural network,\" 2013 IEEE/ACIS 12th International Conference on Computer and Information Science (ICIS), 2013, pp. 105-110, doi: 10.1109/ICIS.2013.6607825.\n"
   ]
  }
 ],
 "metadata": {
  "kernelspec": {
   "display_name": "Python 3",
   "language": "python",
   "name": "python3"
  },
  "language_info": {
   "codemirror_mode": {
    "name": "ipython",
    "version": 3
   },
   "file_extension": ".py",
   "mimetype": "text/x-python",
   "name": "python",
   "nbconvert_exporter": "python",
   "pygments_lexer": "ipython3",
   "version": "3.8.3"
  }
 },
 "nbformat": 4,
 "nbformat_minor": 4
}
