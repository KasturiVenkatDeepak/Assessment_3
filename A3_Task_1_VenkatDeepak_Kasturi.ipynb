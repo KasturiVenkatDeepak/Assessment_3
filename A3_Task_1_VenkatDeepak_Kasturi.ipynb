{
 "cells": [
  {
   "cell_type": "markdown",
   "metadata": {},
   "source": [
    "# Overview of Balanced Recommendation System"
   ]
  },
  {
   "cell_type": "markdown",
   "metadata": {},
   "source": [
    "\n",
    "As recommendation engines are necessary for us in our day-to-day life to navigate the world of information which overloads us with its density and products. But with the help of a recommendation engine we are able to efficiently navigate the vast amount of information and get to the necessary products or solutions like web content, videos, online stores and other services. They work on the principle of finding patterns in the users data from their behaviour or usage information, they are a recommendation tool which uses data filtering techniques combined with machine learning techniques to provide relevant solutions or information to the user. There are two types of information filtering systems and the recommendation engines are based on these filtering systems, collaborative and content based recommendation engines. A content based recommendation system works on the basis of users preferences or the description of the item selected by the user, whereas a collaborative recommendation system would be based on the behaviour of the user and tries to predict similarities of what the user likes with similarity to others.\n",
    "\n",
    "As with the advancement of the technology we are consuming huge amounts of information online every day, news agencies have adopted these and started to deliver their articles and information online for more and more readers. With the adoption of these technologies the news recommendation systems have been developed and our investigation is based on these recommendation systems. As these recommendations systems would be based on the suggesting articles that are similar to the articles the user have read previous, it would be biased by showing only content that is similar to it and not providing with a wide variety which is not efficient for a news organization which generates income by number of views or clicks to the links of the article.\n",
    "\n",
    "We are trying to develop a prototype NLP recommendation model developed with the help of sentiment analysis and document similarity analysis combined together to overcome this model. First we collect the data to develop our recommendation model with the help of a web crawler. The dataset contains the author, title, description, link and published date. With the help of sentiment analysis we assign a value between -1 to 1 based on the titles of our articles. This helps us classify the news articles into three possible categories positive, neutral and negative with positive being 1 followed by 0 and 1 for the respective categories. By using one of the NLP techniques called Document Similarity Analysis we are going to build our corpus, by following the steps in the mentioned order : first we are going to normalize our corpus , then vectorize it with the help of tfidf vectorizer and calculate the cosine similarity. With this done we are going to make a recommendation balancer which is going to recommend the news article from all the polarities to the user. The steps taken to make this prototype are explained in detail in further documents with respective code supporting it.\n",
    "\n"
   ]
  }
 ],
 "metadata": {
  "kernelspec": {
   "display_name": "Python 3",
   "language": "python",
   "name": "python3"
  },
  "language_info": {
   "codemirror_mode": {
    "name": "ipython",
    "version": 3
   },
   "file_extension": ".py",
   "mimetype": "text/x-python",
   "name": "python",
   "nbconvert_exporter": "python",
   "pygments_lexer": "ipython3",
   "version": "3.8.3"
  }
 },
 "nbformat": 4,
 "nbformat_minor": 4
}
